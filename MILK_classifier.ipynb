{
 "cells": [
  {
   "cell_type": "code",
   "execution_count": 1,
   "metadata": {},
   "outputs": [],
   "source": [
    "import os\n",
    "import zipfile\n",
    "import random\n",
    "import shutil\n",
    "import tensorflow as tf\n",
    "from tensorflow.keras.optimizers import RMSprop\n",
    "from tensorflow.keras.preprocessing.image import ImageDataGenerator\n",
    "from shutil import copyfile\n",
    "from os import getcwd"
   ]
  },
  {
   "cell_type": "code",
   "execution_count": 14,
   "metadata": {},
   "outputs": [
    {
     "name": "stdout",
     "output_type": "stream",
     "text": [
      "341\n",
      "765\n",
      "245\n",
      "466\n"
     ]
    }
   ],
   "source": [
    "def split_data(SOURCE, TRAINING, TESTING, SPLIT_SIZE):\n",
    "# YOUR CODE STARTS HERE\n",
    "    files = []\n",
    "    for filename in os.listdir(SOURCE):\n",
    "            file = SOURCE + filename\n",
    "            if os.path.getsize(file) > 0:\n",
    "                files.append(filename)\n",
    "            else:\n",
    "                print(filename + \" is zero length, so ignoring.\")\n",
    "\n",
    "    training_length = int(len(files) * SPLIT_SIZE)\n",
    "    testing_length = int(len(files) - training_length)\n",
    "    shuffled_set = random.sample(files, len(files))\n",
    "    training_set = shuffled_set[0:training_length]\n",
    "    testing_set = shuffled_set[-testing_length:]\n",
    "\n",
    "    for filename in training_set:\n",
    "        this_file = SOURCE + filename\n",
    "        destination = TRAINING + filename\n",
    "        copyfile(this_file, destination)\n",
    "\n",
    "    for filename in testing_set:\n",
    "        this_file = SOURCE + filename\n",
    "        destination = TESTING + filename\n",
    "        copyfile(this_file, destination)\n",
    "# YOUR CODE ENDS HERE\n",
    "\n",
    "\n",
    "SPILL_SOURCE_DIR = \"D:/PROS/dataset/spill/\"\n",
    "TRAINING_SPILL_DIR = \"D:/PROS/dataset/training/spill/\"\n",
    "TESTING_SPILL_DIR = \"D:/PROS/dataset/testing/spill/\"\n",
    "SAFE_SOURCE_DIR =\"D:/PROS/dataset/safe/\"\n",
    "TRAINING_SAFE_DIR = \"D:/PROS/dataset/training/safe/\"\n",
    "TESTING_SAFE_DIR = \"D:/PROS/dataset/testing/safe/\"\n",
    "\n",
    "split_size = .9\n",
    "split_data(SPILL_SOURCE_DIR, TRAINING_SPILL_DIR, TESTING_SPILL_DIR, split_size)\n",
    "split_data(SAFE_SOURCE_DIR, TRAINING_SAFE_DIR, TESTING_SAFE_DIR, split_size)\n",
    "\n",
    "\n",
    "print(len(os.listdir('D:/PROS/dataset/training/spill/')))\n",
    "print(len(os.listdir('D:/PROS/dataset/training/safe/')))\n",
    "print(len(os.listdir('D:/PROS/dataset/testing/spill/')))\n",
    "print(len(os.listdir('D:/PROS/dataset/testing/safe/')))\n"
   ]
  },
  {
   "cell_type": "code",
   "execution_count": 15,
   "metadata": {},
   "outputs": [
    {
     "name": "stdout",
     "output_type": "stream",
     "text": [
      "Found 1106 images belonging to 2 classes.\n",
      "Found 711 images belonging to 2 classes.\n"
     ]
    }
   ],
   "source": [
    "TRAINING_DIR = \"D:/PROS/dataset/training/\"\n",
    "train_datagen = ImageDataGenerator(rescale=1.0/255,rotation_range=40,\n",
    "                                 # width_shift_range=0.2,\n",
    "                                 # height_shift_range=0.2,\n",
    "                                 # shear_range=0.2,\n",
    "                                 # zoom_range=0.2,\n",
    "                                 # horizontal_flip=True,\n",
    "                                 # fill_mode='nearest'\n",
    "                                  )\n",
    "train_generator = train_datagen.flow_from_directory(TRAINING_DIR,\n",
    "                                                    batch_size=5,\n",
    "                                                    class_mode='binary',\n",
    "                                                    target_size=(150, 150))\n",
    "\n",
    "VALIDATION_DIR = \"D:/PROS/dataset/testing/\"\n",
    "validation_datagen = ImageDataGenerator(rescale=1.0/255.)\n",
    "validation_generator = validation_datagen.flow_from_directory(VALIDATION_DIR,\n",
    "                                                              batch_size=5,\n",
    "                                                              class_mode='binary',\n",
    "                                                              target_size=(150, 150))"
   ]
  },
  {
   "cell_type": "code",
   "execution_count": 16,
   "metadata": {},
   "outputs": [
    {
     "name": "stdout",
     "output_type": "stream",
     "text": [
      "Model: \"sequential_3\"\n",
      "_________________________________________________________________\n",
      "Layer (type)                 Output Shape              Param #   \n",
      "=================================================================\n",
      "conv2d_16 (Conv2D)           (None, 148, 148, 16)      448       \n",
      "_________________________________________________________________\n",
      "max_pooling2d_16 (MaxPooling (None, 74, 74, 16)        0         \n",
      "_________________________________________________________________\n",
      "conv2d_17 (Conv2D)           (None, 72, 72, 32)        4640      \n",
      "_________________________________________________________________\n",
      "max_pooling2d_17 (MaxPooling (None, 36, 36, 32)        0         \n",
      "_________________________________________________________________\n",
      "conv2d_18 (Conv2D)           (None, 34, 34, 64)        18496     \n",
      "_________________________________________________________________\n",
      "max_pooling2d_18 (MaxPooling (None, 17, 17, 64)        0         \n",
      "_________________________________________________________________\n",
      "conv2d_19 (Conv2D)           (None, 15, 15, 128)       73856     \n",
      "_________________________________________________________________\n",
      "max_pooling2d_19 (MaxPooling (None, 7, 7, 128)         0         \n",
      "_________________________________________________________________\n",
      "conv2d_20 (Conv2D)           (None, 5, 5, 256)         295168    \n",
      "_________________________________________________________________\n",
      "max_pooling2d_20 (MaxPooling (None, 2, 2, 256)         0         \n",
      "_________________________________________________________________\n",
      "flatten_3 (Flatten)          (None, 1024)              0         \n",
      "_________________________________________________________________\n",
      "dense_6 (Dense)              (None, 512)               524800    \n",
      "_________________________________________________________________\n",
      "dense_7 (Dense)              (None, 1)                 513       \n",
      "=================================================================\n",
      "Total params: 917,921\n",
      "Trainable params: 917,921\n",
      "Non-trainable params: 0\n",
      "_________________________________________________________________\n"
     ]
    }
   ],
   "source": [
    "model = tf.keras.models.Sequential([\n",
    "    tf.keras.layers.Conv2D(16, (3, 3), activation='relu', input_shape=(150, 150, 3)),\n",
    "    tf.keras.layers.MaxPooling2D(2, 2),\n",
    "    tf.keras.layers.Conv2D(32, (3, 3), activation='relu'),\n",
    "    tf.keras.layers.MaxPooling2D(2, 2),\n",
    "    tf.keras.layers.Conv2D(64, (3, 3), activation='relu'),\n",
    "    tf.keras.layers.MaxPooling2D(2, 2),\n",
    "    \n",
    "    tf.keras.layers.Conv2D(128, (3, 3), activation='relu'),\n",
    "    tf.keras.layers.MaxPooling2D(2, 2),\n",
    "    \n",
    "    tf.keras.layers.Conv2D(256, (3, 3), activation='relu'),\n",
    "    tf.keras.layers.MaxPooling2D(2, 2),\n",
    "    tf.keras.layers.Flatten(),\n",
    "    tf.keras.layers.Dense(512, activation='relu'),\n",
    "    tf.keras.layers.Dense(1, activation='sigmoid')\n",
    "\n",
    "])\n",
    "\n",
    "model.compile(optimizer=RMSprop(lr=0.0001), loss='binary_crossentropy', metrics=['acc'])\n",
    "model.summary()"
   ]
  },
  {
   "cell_type": "code",
   "execution_count": 17,
   "metadata": {},
   "outputs": [
    {
     "name": "stdout",
     "output_type": "stream",
     "text": [
      "Epoch 1/20\n",
      "222/222 [==============================] - 29s 130ms/step - loss: 0.5305 - acc: 0.7387 - val_loss: 0.3391 - val_acc: 0.9044\n",
      "Epoch 2/20\n",
      "222/222 [==============================] - 29s 130ms/step - loss: 0.2713 - acc: 0.8996 - val_loss: 0.1864 - val_acc: 0.9494\n",
      "Epoch 3/20\n",
      "222/222 [==============================] - 30s 133ms/step - loss: 0.1861 - acc: 0.9340 - val_loss: 0.1120 - val_acc: 0.9606\n",
      "Epoch 4/20\n",
      "222/222 [==============================] - 30s 134ms/step - loss: 0.1377 - acc: 0.9485 - val_loss: 0.0684 - val_acc: 0.9733\n",
      "Epoch 5/20\n",
      "222/222 [==============================] - 28s 127ms/step - loss: 0.1079 - acc: 0.9575 - val_loss: 0.0775 - val_acc: 0.9733\n",
      "Epoch 6/20\n",
      "222/222 [==============================] - 27s 121ms/step - loss: 0.0786 - acc: 0.9720 - val_loss: 0.0293 - val_acc: 0.9902\n",
      "Epoch 7/20\n",
      "222/222 [==============================] - 27s 121ms/step - loss: 0.0652 - acc: 0.9738 - val_loss: 0.0345 - val_acc: 0.9873\n",
      "Epoch 8/20\n",
      "222/222 [==============================] - 27s 120ms/step - loss: 0.0758 - acc: 0.9738 - val_loss: 0.0240 - val_acc: 0.9916\n",
      "Epoch 9/20\n",
      "222/222 [==============================] - 27s 120ms/step - loss: 0.0580 - acc: 0.9774 - val_loss: 0.0175 - val_acc: 0.9958\n",
      "Epoch 10/20\n",
      "222/222 [==============================] - 27s 120ms/step - loss: 0.0522 - acc: 0.9792 - val_loss: 0.0203 - val_acc: 0.9902\n",
      "Epoch 11/20\n",
      "222/222 [==============================] - 26s 119ms/step - loss: 0.0276 - acc: 0.9928 - val_loss: 0.0110 - val_acc: 0.9930\n",
      "Epoch 12/20\n",
      "222/222 [==============================] - 26s 119ms/step - loss: 0.0426 - acc: 0.9810 - val_loss: 0.0749 - val_acc: 0.9747\n",
      "Epoch 13/20\n",
      "222/222 [==============================] - 26s 119ms/step - loss: 0.0499 - acc: 0.9810 - val_loss: 0.0127 - val_acc: 0.9944\n",
      "Epoch 14/20\n",
      "222/222 [==============================] - 27s 123ms/step - loss: 0.0274 - acc: 0.9882 - val_loss: 0.0549 - val_acc: 0.9761\n",
      "Epoch 15/20\n",
      "222/222 [==============================] - 27s 120ms/step - loss: 0.0306 - acc: 0.9892 - val_loss: 0.0130 - val_acc: 0.9930\n",
      "Epoch 16/20\n",
      "222/222 [==============================] - 28s 126ms/step - loss: 0.0259 - acc: 0.9892 - val_loss: 0.0071 - val_acc: 0.9972\n",
      "Epoch 17/20\n",
      "222/222 [==============================] - 27s 122ms/step - loss: 0.0467 - acc: 0.9837 - val_loss: 0.0985 - val_acc: 0.9691\n",
      "Epoch 18/20\n",
      "222/222 [==============================] - 27s 120ms/step - loss: 0.0326 - acc: 0.9873 - val_loss: 0.0205 - val_acc: 0.9930\n",
      "Epoch 19/20\n",
      "222/222 [==============================] - 26s 119ms/step - loss: 0.0262 - acc: 0.9910 - val_loss: 0.0065 - val_acc: 0.9986\n",
      "Epoch 20/20\n",
      "222/222 [==============================] - 26s 119ms/step - loss: 0.0255 - acc: 0.9901 - val_loss: 0.0358 - val_acc: 0.9845\n"
     ]
    }
   ],
   "source": [
    "history = model.fit_generator(train_generator,\n",
    "                              epochs=20,\n",
    "                              verbose=1,\n",
    "                              validation_data=validation_generator)\n"
   ]
  },
  {
   "cell_type": "code",
   "execution_count": 19,
   "metadata": {},
   "outputs": [],
   "source": [
    "model.save('mymodelmilk.h5',overwrite=True)"
   ]
  },
  {
   "cell_type": "code",
   "execution_count": 18,
   "metadata": {},
   "outputs": [
    {
     "data": {
      "image/png": "[encoded data removed]",
      "text/plain": [
       "<Figure size 432x288 with 1 Axes>"
      ]
     },
     "metadata": {
      "needs_background": "light"
     },
     "output_type": "display_data"
    },
    {
     "data": {
      "image/png": "[encoded data removed]",
      "text/plain": [
       "<Figure size 432x288 with 1 Axes>"
      ]
     },
     "metadata": {
      "needs_background": "light"
     },
     "output_type": "display_data"
    }
   ],
   "source": [
    "\n",
    "%matplotlib inline\n",
    "import matplotlib.pyplot as plt\n",
    "acc = history.history['acc']\n",
    "val_acc = history.history['val_acc']\n",
    "loss = history.history['loss']\n",
    "val_loss = history.history['val_loss']\n",
    "\n",
    "epochs = range(len(acc))\n",
    "\n",
    "plt.plot(epochs, acc, 'r', label='Training accuracy')\n",
    "plt.plot(epochs, val_acc, 'b', label='Validation accuracy')\n",
    "plt.title('Training and validation accuracy')\n",
    "plt.legend()\n",
    "plt.figure()\n",
    "\n",
    "plt.plot(epochs, loss, 'r', label='Training Loss')\n",
    "plt.plot(epochs, val_loss, 'b', label='Validation Loss')\n",
    "plt.title('Training and validation loss')\n",
    "plt.legend()\n",
    "\n",
    "plt.show()"
   ]
  },
  {
   "cell_type": "code",
   "execution_count": 12,
   "metadata": {},
   "outputs": [],
   "source": [
    "\n",
    "    "
   ]
  },
  {
   "cell_type": "code",
   "execution_count": null,
   "metadata": {},
   "outputs": [],
   "source": []
  },
  {
   "cell_type": "code",
   "execution_count": 27,
   "metadata": {},
   "outputs": [],
   "source": [
   ]
  },
  {
   "cell_type": "code",
   "execution_count": null,
   "metadata": {},
   "outputs": [],
   "source": []
  },
  {
   "cell_type": "code",
   "execution_count": null,
   "metadata": {},
   "outputs": [],
   "source": []
  },
  {
   "cell_type": "code",
   "execution_count": null,
   "metadata": {},
   "outputs": [],
   "source": []
  },
  {
   "cell_type": "code",
   "execution_count": null,
   "metadata": {},
   "outputs": [],
   "source": []
  }
 ],
 "metadata": {
  "kernelspec": {
   "display_name": "Python 3",
   "language": "python",
   "name": "python3"
  },
  "language_info": {
   "codemirror_mode": {
    "name": "ipython",
    "version": 3
   },
   "file_extension": ".py",
   "mimetype": "text/x-python",
   "name": "python",
   "nbconvert_exporter": "python",
   "pygments_lexer": "ipython3",
   "version": "3.7.1"
  }
 },
 "nbformat": 4,
 "nbformat_minor": 2
}
